{
 "cells": [
  {
   "cell_type": "code",
   "execution_count": 1,
   "metadata": {},
   "outputs": [],
   "source": [
    "# importing libraries\n",
    "import pandas as pd\n",
    "import seaborn as sns\n",
    "import matplotlib.pyplot as plt\n",
    "import statsmodels.api as sm\n",
    "import numpy as np"
   ]
  },
  {
   "cell_type": "code",
   "execution_count": 2,
   "metadata": {},
   "outputs": [
    {
     "data": {
      "text/html": [
       "<div>\n",
       "<style scoped>\n",
       "    .dataframe tbody tr th:only-of-type {\n",
       "        vertical-align: middle;\n",
       "    }\n",
       "\n",
       "    .dataframe tbody tr th {\n",
       "        vertical-align: top;\n",
       "    }\n",
       "\n",
       "    .dataframe thead th {\n",
       "        text-align: right;\n",
       "    }\n",
       "</style>\n",
       "<table border=\"1\" class=\"dataframe\">\n",
       "  <thead>\n",
       "    <tr style=\"text-align: right;\">\n",
       "      <th></th>\n",
       "      <th>Cement</th>\n",
       "      <th>BlastFurnaceSlag</th>\n",
       "      <th>FlyAsh</th>\n",
       "      <th>Water</th>\n",
       "      <th>Superplasticizer</th>\n",
       "      <th>CoarseAggregate</th>\n",
       "      <th>FineAggregate</th>\n",
       "      <th>Age</th>\n",
       "      <th>CompressiveStrength</th>\n",
       "    </tr>\n",
       "  </thead>\n",
       "  <tbody>\n",
       "    <tr>\n",
       "      <th>0</th>\n",
       "      <td>540.0</td>\n",
       "      <td>0.0</td>\n",
       "      <td>0.0</td>\n",
       "      <td>162.0</td>\n",
       "      <td>2.5</td>\n",
       "      <td>1040.0</td>\n",
       "      <td>676.0</td>\n",
       "      <td>28</td>\n",
       "      <td>79.99</td>\n",
       "    </tr>\n",
       "    <tr>\n",
       "      <th>1</th>\n",
       "      <td>540.0</td>\n",
       "      <td>0.0</td>\n",
       "      <td>0.0</td>\n",
       "      <td>162.0</td>\n",
       "      <td>2.5</td>\n",
       "      <td>1055.0</td>\n",
       "      <td>676.0</td>\n",
       "      <td>28</td>\n",
       "      <td>61.89</td>\n",
       "    </tr>\n",
       "    <tr>\n",
       "      <th>2</th>\n",
       "      <td>332.5</td>\n",
       "      <td>142.5</td>\n",
       "      <td>0.0</td>\n",
       "      <td>228.0</td>\n",
       "      <td>0.0</td>\n",
       "      <td>932.0</td>\n",
       "      <td>594.0</td>\n",
       "      <td>270</td>\n",
       "      <td>40.27</td>\n",
       "    </tr>\n",
       "    <tr>\n",
       "      <th>3</th>\n",
       "      <td>332.5</td>\n",
       "      <td>142.5</td>\n",
       "      <td>0.0</td>\n",
       "      <td>228.0</td>\n",
       "      <td>0.0</td>\n",
       "      <td>932.0</td>\n",
       "      <td>594.0</td>\n",
       "      <td>365</td>\n",
       "      <td>41.05</td>\n",
       "    </tr>\n",
       "    <tr>\n",
       "      <th>4</th>\n",
       "      <td>198.6</td>\n",
       "      <td>132.4</td>\n",
       "      <td>0.0</td>\n",
       "      <td>192.0</td>\n",
       "      <td>0.0</td>\n",
       "      <td>978.4</td>\n",
       "      <td>825.5</td>\n",
       "      <td>360</td>\n",
       "      <td>44.30</td>\n",
       "    </tr>\n",
       "  </tbody>\n",
       "</table>\n",
       "</div>"
      ],
      "text/plain": [
       "   Cement  BlastFurnaceSlag  FlyAsh  Water  Superplasticizer  CoarseAggregate  \\\n",
       "0   540.0               0.0     0.0  162.0               2.5           1040.0   \n",
       "1   540.0               0.0     0.0  162.0               2.5           1055.0   \n",
       "2   332.5             142.5     0.0  228.0               0.0            932.0   \n",
       "3   332.5             142.5     0.0  228.0               0.0            932.0   \n",
       "4   198.6             132.4     0.0  192.0               0.0            978.4   \n",
       "\n",
       "   FineAggregate  Age  CompressiveStrength  \n",
       "0          676.0   28                79.99  \n",
       "1          676.0   28                61.89  \n",
       "2          594.0  270                40.27  \n",
       "3          594.0  365                41.05  \n",
       "4          825.5  360                44.30  "
      ]
     },
     "execution_count": 2,
     "metadata": {},
     "output_type": "execute_result"
    }
   ],
   "source": [
    "# importing data frame\n",
    "concrete = pd.read_csv('concrete.csv')\n",
    "\n",
    "concrete.drop('Unnamed: 0', axis=1, inplace=True)\n",
    "\n",
    "concrete.head()"
   ]
  },
  {
   "cell_type": "code",
   "execution_count": 3,
   "metadata": {},
   "outputs": [
    {
     "name": "stdout",
     "output_type": "stream",
     "text": [
      "<class 'pandas.core.frame.DataFrame'>\n",
      "RangeIndex: 1030 entries, 0 to 1029\n",
      "Data columns (total 9 columns):\n",
      " #   Column               Non-Null Count  Dtype  \n",
      "---  ------               --------------  -----  \n",
      " 0   Cement               1030 non-null   float64\n",
      " 1   BlastFurnaceSlag     1030 non-null   float64\n",
      " 2   FlyAsh               1030 non-null   float64\n",
      " 3   Water                1030 non-null   float64\n",
      " 4   Superplasticizer     1030 non-null   float64\n",
      " 5   CoarseAggregate      1030 non-null   float64\n",
      " 6   FineAggregate        1030 non-null   float64\n",
      " 7   Age                  1030 non-null   int64  \n",
      " 8   CompressiveStrength  1030 non-null   float64\n",
      "dtypes: float64(8), int64(1)\n",
      "memory usage: 72.5 KB\n"
     ]
    }
   ],
   "source": [
    "concrete.info()"
   ]
  },
  {
   "cell_type": "code",
   "execution_count": 4,
   "metadata": {},
   "outputs": [],
   "source": [
    "X = concrete[['Cement', 'BlastFurnaceSlag', 'FlyAsh', 'Water', 'Superplasticizer','CoarseAggregate', 'FineAggregate', 'Age']]\n",
    "y = concrete['CompressiveStrength']"
   ]
  },
  {
   "cell_type": "code",
   "execution_count": 5,
   "metadata": {},
   "outputs": [],
   "source": [
    "X = sm.add_constant(X)"
   ]
  },
  {
   "cell_type": "code",
   "execution_count": 6,
   "metadata": {},
   "outputs": [],
   "source": [
    "model = sm.OLS(y,X).fit()"
   ]
  },
  {
   "cell_type": "code",
   "execution_count": 7,
   "metadata": {},
   "outputs": [],
   "source": [
    "predictions = model.predict(X)"
   ]
  },
  {
   "cell_type": "code",
   "execution_count": 8,
   "metadata": {},
   "outputs": [
    {
     "data": {
      "text/html": [
       "<table class=\"simpletable\">\n",
       "<tr>\n",
       "        <td>Model:</td>                <td>OLS</td>           <td>Adj. R-squared:</td>     <td>0.613</td>  \n",
       "</tr>\n",
       "<tr>\n",
       "  <td>Dependent Variable:</td> <td>CompressiveStrength</td>        <td>AIC:</td>         <td>7755.9240</td>\n",
       "</tr>\n",
       "<tr>\n",
       "         <td>Date:</td>         <td>2020-12-27 11:23</td>          <td>BIC:</td>         <td>7800.3598</td>\n",
       "</tr>\n",
       "<tr>\n",
       "   <td>No. Observations:</td>         <td>1030</td>           <td>Log-Likelihood:</td>    <td>-3869.0</td> \n",
       "</tr>\n",
       "<tr>\n",
       "       <td>Df Model:</td>               <td>8</td>             <td>F-statistic:</td>       <td>204.3</td>  \n",
       "</tr>\n",
       "<tr>\n",
       "     <td>Df Residuals:</td>           <td>1021</td>         <td>Prob (F-statistic):</td> <td>6.29e-206</td>\n",
       "</tr>\n",
       "<tr>\n",
       "      <td>R-squared:</td>             <td>0.616</td>              <td>Scale:</td>         <td>108.14</td>  \n",
       "</tr>\n",
       "</table>\n",
       "<table class=\"simpletable\">\n",
       "<tr>\n",
       "          <td></td>           <th>Coef.</th>  <th>Std.Err.</th>    <th>t</th>     <th>P>|t|</th>  <th>[0.025</th>  <th>0.975]</th> \n",
       "</tr>\n",
       "<tr>\n",
       "  <th>const</th>            <td>-23.3312</td>  <td>26.5855</td> <td>-0.8776</td> <td>0.3804</td> <td>-75.4997</td> <td>28.8373</td>\n",
       "</tr>\n",
       "<tr>\n",
       "  <th>Cement</th>            <td>0.1198</td>   <td>0.0085</td>  <td>14.1129</td> <td>0.0000</td>  <td>0.1031</td>  <td>0.1365</td> \n",
       "</tr>\n",
       "<tr>\n",
       "  <th>BlastFurnaceSlag</th>  <td>0.1039</td>   <td>0.0101</td>  <td>10.2474</td> <td>0.0000</td>  <td>0.0840</td>  <td>0.1238</td> \n",
       "</tr>\n",
       "<tr>\n",
       "  <th>FlyAsh</th>            <td>0.0879</td>   <td>0.0126</td>  <td>6.9882</td>  <td>0.0000</td>  <td>0.0632</td>  <td>0.1126</td> \n",
       "</tr>\n",
       "<tr>\n",
       "  <th>Water</th>             <td>-0.1499</td>  <td>0.0402</td>  <td>-3.7314</td> <td>0.0002</td>  <td>-0.2288</td> <td>-0.0711</td>\n",
       "</tr>\n",
       "<tr>\n",
       "  <th>Superplasticizer</th>  <td>0.2922</td>   <td>0.0934</td>  <td>3.1279</td>  <td>0.0018</td>  <td>0.1089</td>  <td>0.4755</td> \n",
       "</tr>\n",
       "<tr>\n",
       "  <th>CoarseAggregate</th>   <td>0.0181</td>   <td>0.0094</td>  <td>1.9257</td>  <td>0.0544</td>  <td>-0.0003</td> <td>0.0365</td> \n",
       "</tr>\n",
       "<tr>\n",
       "  <th>FineAggregate</th>     <td>0.0202</td>   <td>0.0107</td>  <td>1.8867</td>  <td>0.0595</td>  <td>-0.0008</td> <td>0.0412</td> \n",
       "</tr>\n",
       "<tr>\n",
       "  <th>Age</th>               <td>0.1142</td>   <td>0.0054</td>  <td>21.0464</td> <td>0.0000</td>  <td>0.1036</td>  <td>0.1249</td> \n",
       "</tr>\n",
       "</table>\n",
       "<table class=\"simpletable\">\n",
       "<tr>\n",
       "     <td>Omnibus:</td>     <td>5.378</td>  <td>Durbin-Watson:</td>    <td>1.282</td>\n",
       "</tr>\n",
       "<tr>\n",
       "  <td>Prob(Omnibus):</td>  <td>0.068</td> <td>Jarque-Bera (JB):</td>  <td>5.304</td>\n",
       "</tr>\n",
       "<tr>\n",
       "       <td>Skew:</td>     <td>-0.174</td>     <td>Prob(JB):</td>      <td>0.071</td>\n",
       "</tr>\n",
       "<tr>\n",
       "     <td>Kurtosis:</td>    <td>3.045</td>  <td>Condition No.:</td>   <td>106075</td>\n",
       "</tr>\n",
       "</table>"
      ],
      "text/plain": [
       "<class 'statsmodels.iolib.summary2.Summary'>\n",
       "\"\"\"\n",
       "                   Results: Ordinary least squares\n",
       "=====================================================================\n",
       "Model:              OLS                 Adj. R-squared:     0.613    \n",
       "Dependent Variable: CompressiveStrength AIC:                7755.9240\n",
       "Date:               2020-12-27 11:23    BIC:                7800.3598\n",
       "No. Observations:   1030                Log-Likelihood:     -3869.0  \n",
       "Df Model:           8                   F-statistic:        204.3    \n",
       "Df Residuals:       1021                Prob (F-statistic): 6.29e-206\n",
       "R-squared:          0.616               Scale:              108.14   \n",
       "---------------------------------------------------------------------\n",
       "                     Coef.   Std.Err.    t    P>|t|   [0.025   0.975]\n",
       "---------------------------------------------------------------------\n",
       "const               -23.3312  26.5855 -0.8776 0.3804 -75.4997 28.8373\n",
       "Cement                0.1198   0.0085 14.1129 0.0000   0.1031  0.1365\n",
       "BlastFurnaceSlag      0.1039   0.0101 10.2474 0.0000   0.0840  0.1238\n",
       "FlyAsh                0.0879   0.0126  6.9882 0.0000   0.0632  0.1126\n",
       "Water                -0.1499   0.0402 -3.7314 0.0002  -0.2288 -0.0711\n",
       "Superplasticizer      0.2922   0.0934  3.1279 0.0018   0.1089  0.4755\n",
       "CoarseAggregate       0.0181   0.0094  1.9257 0.0544  -0.0003  0.0365\n",
       "FineAggregate         0.0202   0.0107  1.8867 0.0595  -0.0008  0.0412\n",
       "Age                   0.1142   0.0054 21.0464 0.0000   0.1036  0.1249\n",
       "---------------------------------------------------------------------\n",
       "Omnibus:                5.378         Durbin-Watson:           1.282 \n",
       "Prob(Omnibus):          0.068         Jarque-Bera (JB):        5.304 \n",
       "Skew:                   -0.174        Prob(JB):                0.071 \n",
       "Kurtosis:               3.045         Condition No.:           106075\n",
       "=====================================================================\n",
       "* The condition number is large (1e+05). This might indicate\n",
       "strong multicollinearity or other numerical problems.\n",
       "\"\"\""
      ]
     },
     "execution_count": 8,
     "metadata": {},
     "output_type": "execute_result"
    }
   ],
   "source": [
    "model.summary2()"
   ]
  },
  {
   "cell_type": "code",
   "execution_count": 9,
   "metadata": {},
   "outputs": [],
   "source": [
    "# Adjusted R Square : R Square tends to increase even if the additional input do not add any value to the model. Adjusted R ßquare compensates for it. \n",
    "# R Square measures the proportion of variability explained by feautre on the target. \n",
    "\n",
    "# R Square = 1 - (SSE/SST)\n",
    "# Adjusted R Square = 1 - [(1-Rsquare)(n-1)/(n-k-1)]\n",
    "\n",
    "# n : number of samples\n",
    "# k : number of features\n",
    "\n",
    "# Adj. R Sqaure pf 0.613 means 61 % of variatios in the increase in compresive strength is explained by the features used in the model"
   ]
  },
  {
   "cell_type": "code",
   "execution_count": 10,
   "metadata": {},
   "outputs": [],
   "source": [
    "# AIC and BIC will be used when we have different models to compare.\n",
    "\n",
    "# AIC determines the relative informational value of the model using the maximum likelihood estimation and number of features\n",
    "# AIC = 2k - 2ln(L) where k is the number of features and L is the maximum likelihood estimation\n",
    "# For a number of different model, AIC with the lowest value will be chosen as the best model\n",
    "\n",
    "# BIC similar as AIC but based on Bayesian estimates. Similarly the lowest value be chosen."
   ]
  },
  {
   "cell_type": "code",
   "execution_count": 11,
   "metadata": {},
   "outputs": [],
   "source": [
    "# Std. Error of the variable measures how much uncertainity is asscoaited with each variable. Lower the better.\n",
    "# t stat is coefficient / std. error. Cememnt stands 14 std. deviation from Zero. \n",
    "# p >|t| means the p value of each variable and how significant are these variables\n",
    "# [0.025 0.975] : The range for confidence for each variable. For example in case of \"age\" , we are 95% confident that a one year increase in age \n",
    "# will correspond to 0.1026 and 0.1249 increase in compressive strength, while keeping other factors constant"
   ]
  },
  {
   "cell_type": "code",
   "execution_count": 12,
   "metadata": {},
   "outputs": [],
   "source": [
    "# we can see from the above model that \"Fine Aggregate\" and \"Coarse Aggregate\" has p value much higher and 95% confidennce has 0 in the range. \n",
    "# Let's remove these two feature and run the model again to see if we improved."
   ]
  },
  {
   "cell_type": "code",
   "execution_count": 13,
   "metadata": {},
   "outputs": [],
   "source": [
    "X = concrete[['Cement', 'BlastFurnaceSlag', 'FlyAsh', 'Water', 'Superplasticizer','Age']]\n",
    "y = concrete['CompressiveStrength']\n",
    "X = sm.add_constant(X)"
   ]
  },
  {
   "cell_type": "code",
   "execution_count": 14,
   "metadata": {},
   "outputs": [],
   "source": [
    "model = sm.OLS(y,X).fit()"
   ]
  },
  {
   "cell_type": "code",
   "execution_count": 15,
   "metadata": {},
   "outputs": [],
   "source": [
    "predictions = model.predict(X)"
   ]
  },
  {
   "cell_type": "code",
   "execution_count": 16,
   "metadata": {},
   "outputs": [
    {
     "data": {
      "text/html": [
       "<table class=\"simpletable\">\n",
       "<tr>\n",
       "        <td>Model:</td>                <td>OLS</td>           <td>Adj. R-squared:</td>     <td>0.612</td>  \n",
       "</tr>\n",
       "<tr>\n",
       "  <td>Dependent Variable:</td> <td>CompressiveStrength</td>        <td>AIC:</td>         <td>7755.9279</td>\n",
       "</tr>\n",
       "<tr>\n",
       "         <td>Date:</td>         <td>2020-12-27 11:24</td>          <td>BIC:</td>         <td>7790.4891</td>\n",
       "</tr>\n",
       "<tr>\n",
       "   <td>No. Observations:</td>         <td>1030</td>           <td>Log-Likelihood:</td>    <td>-3871.0</td> \n",
       "</tr>\n",
       "<tr>\n",
       "       <td>Df Model:</td>               <td>6</td>             <td>F-statistic:</td>       <td>271.2</td>  \n",
       "</tr>\n",
       "<tr>\n",
       "     <td>Df Residuals:</td>           <td>1023</td>         <td>Prob (F-statistic):</td> <td>1.67e-207</td>\n",
       "</tr>\n",
       "<tr>\n",
       "      <td>R-squared:</td>             <td>0.614</td>              <td>Scale:</td>         <td>108.35</td>  \n",
       "</tr>\n",
       "</table>\n",
       "<table class=\"simpletable\">\n",
       "<tr>\n",
       "          <td></td>          <th>Coef.</th>  <th>Std.Err.</th>     <th>t</th>     <th>P>|t|</th> <th>[0.025</th>  <th>0.975]</th> \n",
       "</tr>\n",
       "<tr>\n",
       "  <th>const</th>            <td>28.9930</td>  <td>4.2132</td>   <td>6.8815</td>  <td>0.0000</td> <td>20.7255</td> <td>37.2605</td>\n",
       "</tr>\n",
       "<tr>\n",
       "  <th>Cement</th>           <td>0.1054</td>   <td>0.0042</td>   <td>24.8248</td> <td>0.0000</td> <td>0.0971</td>  <td>0.1137</td> \n",
       "</tr>\n",
       "<tr>\n",
       "  <th>BlastFurnaceSlag</th> <td>0.0865</td>   <td>0.0050</td>   <td>17.3854</td> <td>0.0000</td> <td>0.0767</td>  <td>0.0962</td> \n",
       "</tr>\n",
       "<tr>\n",
       "  <th>FlyAsh</th>           <td>0.0687</td>   <td>0.0077</td>   <td>8.8766</td>  <td>0.0000</td> <td>0.0535</td>  <td>0.0838</td> \n",
       "</tr>\n",
       "<tr>\n",
       "  <th>Water</th>            <td>-0.2181</td>  <td>0.0211</td>  <td>-10.3215</td> <td>0.0000</td> <td>-0.2596</td> <td>-0.1766</td>\n",
       "</tr>\n",
       "<tr>\n",
       "  <th>Superplasticizer</th> <td>0.2403</td>   <td>0.0846</td>   <td>2.8417</td>  <td>0.0046</td> <td>0.0744</td>  <td>0.4063</td> \n",
       "</tr>\n",
       "<tr>\n",
       "  <th>Age</th>              <td>0.1135</td>   <td>0.0054</td>   <td>20.9880</td> <td>0.0000</td> <td>0.1029</td>  <td>0.1241</td> \n",
       "</tr>\n",
       "</table>\n",
       "<table class=\"simpletable\">\n",
       "<tr>\n",
       "     <td>Omnibus:</td>     <td>5.229</td>  <td>Durbin-Watson:</td>   <td>1.286</td>\n",
       "</tr>\n",
       "<tr>\n",
       "  <td>Prob(Omnibus):</td>  <td>0.073</td> <td>Jarque-Bera (JB):</td> <td>5.189</td>\n",
       "</tr>\n",
       "<tr>\n",
       "       <td>Skew:</td>     <td>-0.174</td>     <td>Prob(JB):</td>     <td>0.075</td>\n",
       "</tr>\n",
       "<tr>\n",
       "     <td>Kurtosis:</td>    <td>3.019</td>  <td>Condition No.:</td>   <td>4662</td> \n",
       "</tr>\n",
       "</table>"
      ],
      "text/plain": [
       "<class 'statsmodels.iolib.summary2.Summary'>\n",
       "\"\"\"\n",
       "                   Results: Ordinary least squares\n",
       "=====================================================================\n",
       "Model:              OLS                 Adj. R-squared:     0.612    \n",
       "Dependent Variable: CompressiveStrength AIC:                7755.9279\n",
       "Date:               2020-12-27 11:24    BIC:                7790.4891\n",
       "No. Observations:   1030                Log-Likelihood:     -3871.0  \n",
       "Df Model:           6                   F-statistic:        271.2    \n",
       "Df Residuals:       1023                Prob (F-statistic): 1.67e-207\n",
       "R-squared:          0.614               Scale:              108.35   \n",
       "---------------------------------------------------------------------\n",
       "                      Coef.  Std.Err.    t     P>|t|   [0.025  0.975]\n",
       "---------------------------------------------------------------------\n",
       "const                28.9930   4.2132   6.8815 0.0000 20.7255 37.2605\n",
       "Cement                0.1054   0.0042  24.8248 0.0000  0.0971  0.1137\n",
       "BlastFurnaceSlag      0.0865   0.0050  17.3854 0.0000  0.0767  0.0962\n",
       "FlyAsh                0.0687   0.0077   8.8766 0.0000  0.0535  0.0838\n",
       "Water                -0.2181   0.0211 -10.3215 0.0000 -0.2596 -0.1766\n",
       "Superplasticizer      0.2403   0.0846   2.8417 0.0046  0.0744  0.4063\n",
       "Age                   0.1135   0.0054  20.9880 0.0000  0.1029  0.1241\n",
       "---------------------------------------------------------------------\n",
       "Omnibus:               5.229          Durbin-Watson:            1.286\n",
       "Prob(Omnibus):         0.073          Jarque-Bera (JB):         5.189\n",
       "Skew:                  -0.174         Prob(JB):                 0.075\n",
       "Kurtosis:              3.019          Condition No.:            4662 \n",
       "=====================================================================\n",
       "* The condition number is large (5e+03). This might indicate\n",
       "strong multicollinearity or other numerical problems.\n",
       "\"\"\""
      ]
     },
     "execution_count": 16,
     "metadata": {},
     "output_type": "execute_result"
    }
   ],
   "source": [
    "model.summary2()"
   ]
  },
  {
   "cell_type": "code",
   "execution_count": 17,
   "metadata": {},
   "outputs": [],
   "source": [
    "# The new model's Adjusted R Square is still same at 61 % so no improvements.\n",
    "# The coefficient for \"Cemenrt\" is 0.1054 with 95% CI between 0.0971 and 0.1137 it means that with one unit increase in cement , the Compressive Strength increase by 0.1054\n",
    "# Also the 95 % CI tells that if we repeat this procedure numerous times, around 95 % probablity that caluclated CI from some future experiments encompasses the value of cement coefficient \n",
    "# between 0.09 and 0.11"
   ]
  },
  {
   "cell_type": "code",
   "execution_count": 18,
   "metadata": {},
   "outputs": [],
   "source": [
    "# SST : Sum of Square Total : Sum of Squared difference between the observed dependent variable and its mean of dependent variable\n",
    "# SSR : Sum of Square due to Regression : Sum of the squared difference between the predicated value and mean of the dependent variable\n",
    "# SSE : Sum of Square Error : Sum of squared between the observed value and the predicted value\n",
    "# SST = SSE + SSR"
   ]
  },
  {
   "cell_type": "code",
   "execution_count": 19,
   "metadata": {},
   "outputs": [
    {
     "data": {
      "text/html": [
       "<div>\n",
       "<style scoped>\n",
       "    .dataframe tbody tr th:only-of-type {\n",
       "        vertical-align: middle;\n",
       "    }\n",
       "\n",
       "    .dataframe tbody tr th {\n",
       "        vertical-align: top;\n",
       "    }\n",
       "\n",
       "    .dataframe thead th {\n",
       "        text-align: right;\n",
       "    }\n",
       "</style>\n",
       "<table border=\"1\" class=\"dataframe\">\n",
       "  <thead>\n",
       "    <tr style=\"text-align: right;\">\n",
       "      <th></th>\n",
       "      <th>Cement</th>\n",
       "      <th>BlastFurnaceSlag</th>\n",
       "      <th>FlyAsh</th>\n",
       "      <th>Water</th>\n",
       "      <th>Superplasticizer</th>\n",
       "      <th>CoarseAggregate</th>\n",
       "      <th>FineAggregate</th>\n",
       "      <th>Age</th>\n",
       "      <th>CompressiveStrength</th>\n",
       "    </tr>\n",
       "  </thead>\n",
       "  <tbody>\n",
       "    <tr>\n",
       "      <th>0</th>\n",
       "      <td>540.0</td>\n",
       "      <td>0.0</td>\n",
       "      <td>0.0</td>\n",
       "      <td>162.0</td>\n",
       "      <td>2.5</td>\n",
       "      <td>1040.0</td>\n",
       "      <td>676.0</td>\n",
       "      <td>28</td>\n",
       "      <td>79.99</td>\n",
       "    </tr>\n",
       "    <tr>\n",
       "      <th>1</th>\n",
       "      <td>540.0</td>\n",
       "      <td>0.0</td>\n",
       "      <td>0.0</td>\n",
       "      <td>162.0</td>\n",
       "      <td>2.5</td>\n",
       "      <td>1055.0</td>\n",
       "      <td>676.0</td>\n",
       "      <td>28</td>\n",
       "      <td>61.89</td>\n",
       "    </tr>\n",
       "    <tr>\n",
       "      <th>2</th>\n",
       "      <td>332.5</td>\n",
       "      <td>142.5</td>\n",
       "      <td>0.0</td>\n",
       "      <td>228.0</td>\n",
       "      <td>0.0</td>\n",
       "      <td>932.0</td>\n",
       "      <td>594.0</td>\n",
       "      <td>270</td>\n",
       "      <td>40.27</td>\n",
       "    </tr>\n",
       "    <tr>\n",
       "      <th>3</th>\n",
       "      <td>332.5</td>\n",
       "      <td>142.5</td>\n",
       "      <td>0.0</td>\n",
       "      <td>228.0</td>\n",
       "      <td>0.0</td>\n",
       "      <td>932.0</td>\n",
       "      <td>594.0</td>\n",
       "      <td>365</td>\n",
       "      <td>41.05</td>\n",
       "    </tr>\n",
       "    <tr>\n",
       "      <th>4</th>\n",
       "      <td>198.6</td>\n",
       "      <td>132.4</td>\n",
       "      <td>0.0</td>\n",
       "      <td>192.0</td>\n",
       "      <td>0.0</td>\n",
       "      <td>978.4</td>\n",
       "      <td>825.5</td>\n",
       "      <td>360</td>\n",
       "      <td>44.30</td>\n",
       "    </tr>\n",
       "  </tbody>\n",
       "</table>\n",
       "</div>"
      ],
      "text/plain": [
       "   Cement  BlastFurnaceSlag  FlyAsh  Water  Superplasticizer  CoarseAggregate  \\\n",
       "0   540.0               0.0     0.0  162.0               2.5           1040.0   \n",
       "1   540.0               0.0     0.0  162.0               2.5           1055.0   \n",
       "2   332.5             142.5     0.0  228.0               0.0            932.0   \n",
       "3   332.5             142.5     0.0  228.0               0.0            932.0   \n",
       "4   198.6             132.4     0.0  192.0               0.0            978.4   \n",
       "\n",
       "   FineAggregate  Age  CompressiveStrength  \n",
       "0          676.0   28                79.99  \n",
       "1          676.0   28                61.89  \n",
       "2          594.0  270                40.27  \n",
       "3          594.0  365                41.05  \n",
       "4          825.5  360                44.30  "
      ]
     },
     "execution_count": 19,
     "metadata": {},
     "output_type": "execute_result"
    }
   ],
   "source": [
    "concrete.head()"
   ]
  },
  {
   "cell_type": "code",
   "execution_count": 20,
   "metadata": {},
   "outputs": [],
   "source": [
    "# Let's see if we can improve model performance by \"feature scaling\" the features.\n",
    "\n",
    "# Some machine learning models are more prne to get impacted through different scales for features. Examples are regression and neural network\n",
    "\n",
    "# KNN, K Means and SVM uses distance between points to determine similarity hence they might also get impacted. \n",
    "\n",
    "\n",
    "# There are two main types of feature scaling \n",
    "\n",
    "# Normalization : Converts between 0 to 1. Also known as min max scaling.\n",
    "\n",
    "# x norm = (x-min(x))/ (max(x)-min(x))\n",
    "\n",
    "# Standardization : Converts values towards centered around mean with a unit standard deviation . Mean becomes zero \n",
    "# and resulting distribution has a unit standard deviation\n",
    "\n",
    "# x` = (x-mu)/(sigma)\n",
    "\n",
    "# mu is the mean and sigma is the standard deviation\n",
    "\n"
   ]
  },
  {
   "cell_type": "code",
   "execution_count": 25,
   "metadata": {},
   "outputs": [],
   "source": [
    "# importing sklearn preprocessing to do min max scaling\n",
    "\n",
    "from sklearn.preprocessing import MinMaxScaler"
   ]
  },
  {
   "cell_type": "code",
   "execution_count": 22,
   "metadata": {},
   "outputs": [],
   "source": [
    "X = concrete[['Cement', 'BlastFurnaceSlag', 'FlyAsh', 'Water', 'Superplasticizer','Age']]\n",
    "y = concrete['CompressiveStrength']"
   ]
  },
  {
   "cell_type": "code",
   "execution_count": 28,
   "metadata": {},
   "outputs": [],
   "source": [
    "min_max_scaler = MinMaxScaler()"
   ]
  },
  {
   "cell_type": "code",
   "execution_count": 34,
   "metadata": {},
   "outputs": [],
   "source": [
    "X = pd.DataFrame(min_max_scaler.fit_transform(X.values), columns=X.columns,index=X.index)\n"
   ]
  },
  {
   "cell_type": "code",
   "execution_count": 36,
   "metadata": {},
   "outputs": [],
   "source": [
    "X = sm.add_constant(X)"
   ]
  },
  {
   "cell_type": "code",
   "execution_count": 37,
   "metadata": {},
   "outputs": [],
   "source": [
    "model = sm.OLS(y,X).fit()"
   ]
  },
  {
   "cell_type": "code",
   "execution_count": 38,
   "metadata": {},
   "outputs": [],
   "source": [
    "predictions = model.predict(X)"
   ]
  },
  {
   "cell_type": "code",
   "execution_count": 39,
   "metadata": {},
   "outputs": [
    {
     "data": {
      "text/html": [
       "<table class=\"simpletable\">\n",
       "<tr>\n",
       "        <td>Model:</td>                <td>OLS</td>           <td>Adj. R-squared:</td>     <td>0.612</td>  \n",
       "</tr>\n",
       "<tr>\n",
       "  <td>Dependent Variable:</td> <td>CompressiveStrength</td>        <td>AIC:</td>         <td>7755.9279</td>\n",
       "</tr>\n",
       "<tr>\n",
       "         <td>Date:</td>         <td>2020-12-27 11:37</td>          <td>BIC:</td>         <td>7790.4891</td>\n",
       "</tr>\n",
       "<tr>\n",
       "   <td>No. Observations:</td>         <td>1030</td>           <td>Log-Likelihood:</td>    <td>-3871.0</td> \n",
       "</tr>\n",
       "<tr>\n",
       "       <td>Df Model:</td>               <td>6</td>             <td>F-statistic:</td>       <td>271.2</td>  \n",
       "</tr>\n",
       "<tr>\n",
       "     <td>Df Residuals:</td>           <td>1023</td>         <td>Prob (F-statistic):</td> <td>1.67e-207</td>\n",
       "</tr>\n",
       "<tr>\n",
       "      <td>R-squared:</td>             <td>0.614</td>              <td>Scale:</td>         <td>108.35</td>  \n",
       "</tr>\n",
       "</table>\n",
       "<table class=\"simpletable\">\n",
       "<tr>\n",
       "          <td></td>           <th>Coef.</th>  <th>Std.Err.</th>     <th>t</th>     <th>P>|t|</th>  <th>[0.025</th>   <th>0.975]</th> \n",
       "</tr>\n",
       "<tr>\n",
       "  <th>const</th>             <td>13.2955</td>  <td>1.8359</td>   <td>7.2419</td>  <td>0.0000</td>  <td>9.6929</td>   <td>16.8981</td>\n",
       "</tr>\n",
       "<tr>\n",
       "  <th>Cement</th>            <td>46.1711</td>  <td>1.8599</td>   <td>24.8248</td> <td>0.0000</td>  <td>42.5215</td>  <td>49.8207</td>\n",
       "</tr>\n",
       "<tr>\n",
       "  <th>BlastFurnaceSlag</th>  <td>31.0779</td>  <td>1.7876</td>   <td>17.3854</td> <td>0.0000</td>  <td>27.5701</td>  <td>34.5856</td>\n",
       "</tr>\n",
       "<tr>\n",
       "  <th>FlyAsh</th>            <td>13.7389</td>  <td>1.5478</td>   <td>8.8766</td>  <td>0.0000</td>  <td>10.7018</td>  <td>16.7761</td>\n",
       "</tr>\n",
       "<tr>\n",
       "  <th>Water</th>            <td>-27.3047</td>  <td>2.6454</td>  <td>-10.3215</td> <td>0.0000</td> <td>-32.4957</td> <td>-22.1136</td>\n",
       "</tr>\n",
       "<tr>\n",
       "  <th>Superplasticizer</th>  <td>7.7380</td>   <td>2.7231</td>   <td>2.8417</td>  <td>0.0046</td>  <td>2.3946</td>   <td>13.0814</td>\n",
       "</tr>\n",
       "<tr>\n",
       "  <th>Age</th>               <td>41.3110</td>  <td>1.9683</td>   <td>20.9880</td> <td>0.0000</td>  <td>37.4486</td>  <td>45.1735</td>\n",
       "</tr>\n",
       "</table>\n",
       "<table class=\"simpletable\">\n",
       "<tr>\n",
       "     <td>Omnibus:</td>     <td>5.229</td>  <td>Durbin-Watson:</td>   <td>1.286</td>\n",
       "</tr>\n",
       "<tr>\n",
       "  <td>Prob(Omnibus):</td>  <td>0.073</td> <td>Jarque-Bera (JB):</td> <td>5.189</td>\n",
       "</tr>\n",
       "<tr>\n",
       "       <td>Skew:</td>     <td>-0.174</td>     <td>Prob(JB):</td>     <td>0.075</td>\n",
       "</tr>\n",
       "<tr>\n",
       "     <td>Kurtosis:</td>    <td>3.019</td>  <td>Condition No.:</td>    <td>14</td>  \n",
       "</tr>\n",
       "</table>"
      ],
      "text/plain": [
       "<class 'statsmodels.iolib.summary2.Summary'>\n",
       "\"\"\"\n",
       "                   Results: Ordinary least squares\n",
       "=====================================================================\n",
       "Model:              OLS                 Adj. R-squared:     0.612    \n",
       "Dependent Variable: CompressiveStrength AIC:                7755.9279\n",
       "Date:               2020-12-27 11:37    BIC:                7790.4891\n",
       "No. Observations:   1030                Log-Likelihood:     -3871.0  \n",
       "Df Model:           6                   F-statistic:        271.2    \n",
       "Df Residuals:       1023                Prob (F-statistic): 1.67e-207\n",
       "R-squared:          0.614               Scale:              108.35   \n",
       "---------------------------------------------------------------------\n",
       "                   Coef.   Std.Err.    t     P>|t|   [0.025   0.975] \n",
       "---------------------------------------------------------------------\n",
       "const              13.2955   1.8359   7.2419 0.0000   9.6929  16.8981\n",
       "Cement             46.1711   1.8599  24.8248 0.0000  42.5215  49.8207\n",
       "BlastFurnaceSlag   31.0779   1.7876  17.3854 0.0000  27.5701  34.5856\n",
       "FlyAsh             13.7389   1.5478   8.8766 0.0000  10.7018  16.7761\n",
       "Water             -27.3047   2.6454 -10.3215 0.0000 -32.4957 -22.1136\n",
       "Superplasticizer    7.7380   2.7231   2.8417 0.0046   2.3946  13.0814\n",
       "Age                41.3110   1.9683  20.9880 0.0000  37.4486  45.1735\n",
       "---------------------------------------------------------------------\n",
       "Omnibus:               5.229          Durbin-Watson:            1.286\n",
       "Prob(Omnibus):         0.073          Jarque-Bera (JB):         5.189\n",
       "Skew:                  -0.174         Prob(JB):                 0.075\n",
       "Kurtosis:              3.019          Condition No.:            14   \n",
       "=====================================================================\n",
       "\n",
       "\"\"\""
      ]
     },
     "execution_count": 39,
     "metadata": {},
     "output_type": "execute_result"
    }
   ],
   "source": [
    "model.summary2()"
   ]
  },
  {
   "cell_type": "code",
   "execution_count": 40,
   "metadata": {},
   "outputs": [],
   "source": [
    "# As you can see there is no improvement in the model with \"feature scaling\"\n",
    "# Probably we have features that we do not need. Although we did earlier by looking at p value. \n",
    "# Let's also make it work through some cool methods available to us through sklearn"
   ]
  },
  {
   "cell_type": "code",
   "execution_count": 41,
   "metadata": {},
   "outputs": [],
   "source": [
    "# Feature Selection is done to get the following benefits.\n",
    "\n",
    "# Curse of dimensionality : In this model , we have just 10 features but in many real life problesm we may have 100s if not 1000s of variables.\n",
    "# Feature selection helps to remove the curse of dimensionality\n",
    "\n",
    "# Overfitting reduction : Since we will not have multi-collinearity hence reduction in overfitting\n",
    "\n",
    "# Accuracy : Model accuracy improves since less misleading data"
   ]
  },
  {
   "cell_type": "code",
   "execution_count": 42,
   "metadata": {},
   "outputs": [],
   "source": [
    "from sklearn.feature_selection import SelectKBest, f_regression"
   ]
  },
  {
   "cell_type": "code",
   "execution_count": 45,
   "metadata": {},
   "outputs": [],
   "source": [
    "test = SelectKBest(score_func=f_regression,k=5)"
   ]
  },
  {
   "cell_type": "code",
   "execution_count": 57,
   "metadata": {},
   "outputs": [],
   "source": [
    "np.seterr(divide='ignore',invalid='ignore')\n",
    "X_selected = test.fit(X,y)"
   ]
  },
  {
   "cell_type": "code",
   "execution_count": 60,
   "metadata": {},
   "outputs": [],
   "source": [
    "cols = X_selected.get_support(indices=True)"
   ]
  },
  {
   "cell_type": "code",
   "execution_count": 62,
   "metadata": {},
   "outputs": [],
   "source": [
    "new_feature = X.columns[cols]"
   ]
  },
  {
   "cell_type": "code",
   "execution_count": 63,
   "metadata": {},
   "outputs": [
    {
     "data": {
      "text/plain": [
       "Index(['Cement', 'BlastFurnaceSlag', 'Water', 'Superplasticizer', 'Age'], dtype='object')"
      ]
     },
     "execution_count": 63,
     "metadata": {},
     "output_type": "execute_result"
    }
   ],
   "source": [
    "new_feature"
   ]
  },
  {
   "cell_type": "code",
   "execution_count": 64,
   "metadata": {},
   "outputs": [
    {
     "data": {
      "text/plain": [
       "Index(['const', 'Cement', 'BlastFurnaceSlag', 'FlyAsh', 'Water',\n",
       "       'Superplasticizer', 'Age'],\n",
       "      dtype='object')"
      ]
     },
     "execution_count": 64,
     "metadata": {},
     "output_type": "execute_result"
    }
   ],
   "source": [
    "X.columns"
   ]
  },
  {
   "cell_type": "code",
   "execution_count": 65,
   "metadata": {},
   "outputs": [],
   "source": [
    "# we can see that flyash has been removed as the feature. However we have used here the K as 5. What if k is not 5 and something else"
   ]
  },
  {
   "cell_type": "code",
   "execution_count": 66,
   "metadata": {},
   "outputs": [],
   "source": [
    "# RFE : Recursive Feature Eliminition"
   ]
  },
  {
   "cell_type": "code",
   "execution_count": 68,
   "metadata": {},
   "outputs": [],
   "source": [
    "from sklearn.feature_selection import RFE, RFECV\n",
    "from sklearn.linear_model import LinearRegression"
   ]
  },
  {
   "cell_type": "code",
   "execution_count": 69,
   "metadata": {},
   "outputs": [],
   "source": [
    "model = LinearRegression()"
   ]
  },
  {
   "cell_type": "code",
   "execution_count": 71,
   "metadata": {},
   "outputs": [],
   "source": [
    "rfe = RFE(estimator=model,n_features_to_select=5)"
   ]
  },
  {
   "cell_type": "code",
   "execution_count": 72,
   "metadata": {},
   "outputs": [],
   "source": [
    "fit = rfe.fit(X,y)"
   ]
  },
  {
   "cell_type": "code",
   "execution_count": 77,
   "metadata": {},
   "outputs": [],
   "source": [
    "cols = fit.get_support(indices=True)"
   ]
  },
  {
   "cell_type": "code",
   "execution_count": 79,
   "metadata": {},
   "outputs": [],
   "source": [
    "new_feature = X.columns[cols]"
   ]
  },
  {
   "cell_type": "code",
   "execution_count": 80,
   "metadata": {},
   "outputs": [
    {
     "data": {
      "text/plain": [
       "Index(['Cement', 'BlastFurnaceSlag', 'FlyAsh', 'Water', 'Age'], dtype='object')"
      ]
     },
     "execution_count": 80,
     "metadata": {},
     "output_type": "execute_result"
    }
   ],
   "source": [
    "new_feature"
   ]
  },
  {
   "cell_type": "code",
   "execution_count": 81,
   "metadata": {},
   "outputs": [],
   "source": [
    "# based on RFE it seems that FlyAsh is better predictor"
   ]
  },
  {
   "cell_type": "code",
   "execution_count": 92,
   "metadata": {},
   "outputs": [],
   "source": [
    "# let's use the grid search to identify number of good predictors\n",
    "\n",
    "from sklearn.pipeline import Pipeline\n",
    "from sklearn.model_selection import GridSearchCV\n",
    "from sklearn.feature_selection import SelectKBest, f_regression"
   ]
  },
  {
   "cell_type": "code",
   "execution_count": 93,
   "metadata": {},
   "outputs": [],
   "source": [
    "kbest_estimators = SelectKBest(f_regression)\n",
    "\n",
    "pipeline = Pipeline([('kbest', kbest_estimators),('linear',LinearRegression())])"
   ]
  },
  {
   "cell_type": "code",
   "execution_count": 96,
   "metadata": {},
   "outputs": [],
   "source": [
    "grid_search = GridSearchCV(pipeline,{'kbest__k':[1,2,3,4,5,6,7]})"
   ]
  },
  {
   "cell_type": "code",
   "execution_count": 97,
   "metadata": {},
   "outputs": [
    {
     "data": {
      "text/plain": [
       "GridSearchCV(estimator=Pipeline(steps=[('kbest',\n",
       "                                        SelectKBest(score_func=<function f_regression at 0x7facc2470310>)),\n",
       "                                       ('linear', LinearRegression())]),\n",
       "             param_grid={'kbest__k': [1, 2, 3, 4, 5, 6, 7]})"
      ]
     },
     "execution_count": 97,
     "metadata": {},
     "output_type": "execute_result"
    }
   ],
   "source": [
    "grid_search.fit(X,y)"
   ]
  },
  {
   "cell_type": "code",
   "execution_count": 98,
   "metadata": {},
   "outputs": [
    {
     "data": {
      "text/plain": [
       "Pipeline(steps=[('kbest',\n",
       "                 SelectKBest(k=7,\n",
       "                             score_func=<function f_regression at 0x7facc2470310>)),\n",
       "                ('linear', LinearRegression())])"
      ]
     },
     "execution_count": 98,
     "metadata": {},
     "output_type": "execute_result"
    }
   ],
   "source": [
    "grid_search.best_estimator_"
   ]
  },
  {
   "cell_type": "code",
   "execution_count": 99,
   "metadata": {},
   "outputs": [
    {
     "data": {
      "text/plain": [
       "{'kbest__k': 7}"
      ]
     },
     "execution_count": 99,
     "metadata": {},
     "output_type": "execute_result"
    }
   ],
   "source": [
    "grid_search.best_params_"
   ]
  },
  {
   "cell_type": "code",
   "execution_count": 100,
   "metadata": {},
   "outputs": [],
   "source": [
    "features = pipeline.named_steps['kbest']"
   ]
  },
  {
   "cell_type": "code",
   "execution_count": 103,
   "metadata": {},
   "outputs": [],
   "source": [
    "# seems like the more number of feature you give the more it selects"
   ]
  },
  {
   "cell_type": "code",
   "execution_count": 104,
   "metadata": {},
   "outputs": [],
   "source": [
    "# let's use one more technique to identify the feature importance\n",
    "\n",
    "from sklearn.ensemble import ExtraTreesRegressor"
   ]
  },
  {
   "cell_type": "code",
   "execution_count": 105,
   "metadata": {},
   "outputs": [
    {
     "data": {
      "text/plain": [
       "ExtraTreesRegressor()"
      ]
     },
     "execution_count": 105,
     "metadata": {},
     "output_type": "execute_result"
    }
   ],
   "source": [
    "model = ExtraTreesRegressor(n_estimators=100)\n",
    "\n",
    "model.fit(X,y)"
   ]
  },
  {
   "cell_type": "code",
   "execution_count": 106,
   "metadata": {},
   "outputs": [
    {
     "data": {
      "text/plain": [
       "array([0.        , 0.27390622, 0.10333828, 0.04732712, 0.11349515,\n",
       "       0.09279012, 0.36914312])"
      ]
     },
     "execution_count": 106,
     "metadata": {},
     "output_type": "execute_result"
    }
   ],
   "source": [
    "model.feature_importances_"
   ]
  },
  {
   "cell_type": "code",
   "execution_count": 107,
   "metadata": {},
   "outputs": [],
   "source": [
    "feats = {}\n",
    "\n",
    "for feature, importance in zip(X.columns,model.feature_importances_):\n",
    "    feats[feature] = importance\n"
   ]
  },
  {
   "cell_type": "code",
   "execution_count": 109,
   "metadata": {},
   "outputs": [],
   "source": [
    "importance = pd.DataFrame.from_dict(feats,orient='index').rename(columns={0:'Pearson Relative importance'})"
   ]
  },
  {
   "cell_type": "code",
   "execution_count": 114,
   "metadata": {},
   "outputs": [
    {
     "data": {
      "image/png": "[encoded data removed]",
      "text/plain": [
       "<Figure size 432x288 with 1 Axes>"
      ]
     },
     "metadata": {
      "needs_background": "light"
     },
     "output_type": "display_data"
    }
   ],
   "source": [
    "importance.sort_values(by='Pearson Relative importance',ascending=False).plot(kind='bar');"
   ]
  },
  {
   "cell_type": "code",
   "execution_count": 115,
   "metadata": {},
   "outputs": [],
   "source": [
    "# let's also use RFECV to understand if we need all features\n",
    "\n",
    "estimator = LinearRegression()\n",
    "\n",
    "selector = RFECV(estimator,step=1,cv=5)\n",
    "\n",
    "selector = selector.fit(X,y)"
   ]
  },
  {
   "cell_type": "code",
   "execution_count": 117,
   "metadata": {},
   "outputs": [
    {
     "data": {
      "text/plain": [
       "array([ True,  True,  True,  True,  True,  True,  True])"
      ]
     },
     "execution_count": 117,
     "metadata": {},
     "output_type": "execute_result"
    }
   ],
   "source": [
    "selector.support_"
   ]
  },
  {
   "cell_type": "code",
   "execution_count": 118,
   "metadata": {},
   "outputs": [],
   "source": [
    "# seems like all of them got selected . Disapponting"
   ]
  },
  {
   "cell_type": "code",
   "execution_count": 130,
   "metadata": {},
   "outputs": [
    {
     "data": {
      "image/png": "[encoded data removed]",
      "text/plain": [
       "<Figure size 864x720 with 2 Axes>"
      ]
     },
     "metadata": {
      "needs_background": "light"
     },
     "output_type": "display_data"
    }
   ],
   "source": [
    "# let's see if we can use Pearson Correlation to understand the importance\n",
    "\n",
    "plt.figure(figsize=(12,10))\n",
    "\n",
    "cor = concrete.corr()\n",
    "\n",
    "sns.heatmap(cor,annot=True, cmap=plt.cm.Reds)\n",
    "\n",
    "plt.show()"
   ]
  },
  {
   "cell_type": "code",
   "execution_count": 123,
   "metadata": {},
   "outputs": [],
   "source": [
    "# As we can see the highest correlation of compressive strength is with Cement on positive side and \n",
    "# Water on negative side"
   ]
  },
  {
   "cell_type": "code",
   "execution_count": 133,
   "metadata": {},
   "outputs": [],
   "source": [
    "cor_target = abs(cor[\"CompressiveStrength\"])\n",
    "\n",
    "relevant_features = cor_target[cor_target>0.1]"
   ]
  },
  {
   "cell_type": "code",
   "execution_count": 137,
   "metadata": {},
   "outputs": [
    {
     "data": {
      "text/plain": [
       "CompressiveStrength    1.000000\n",
       "Cement                 0.497832\n",
       "Superplasticizer       0.366079\n",
       "Age                    0.328873\n",
       "Water                  0.289633\n",
       "FineAggregate          0.167241\n",
       "CoarseAggregate        0.164935\n",
       "BlastFurnaceSlag       0.134829\n",
       "FlyAsh                 0.105755\n",
       "Name: CompressiveStrength, dtype: float64"
      ]
     },
     "execution_count": 137,
     "metadata": {},
     "output_type": "execute_result"
    }
   ],
   "source": [
    "relevant_features.sort_values(ascending=False)"
   ]
  },
  {
   "cell_type": "code",
   "execution_count": 139,
   "metadata": {},
   "outputs": [],
   "source": [
    "from sklearn.linear_model import LassoCV, Lasso"
   ]
  },
  {
   "cell_type": "code",
   "execution_count": 140,
   "metadata": {},
   "outputs": [],
   "source": [
    "from sklearn.feature_selection import SelectFromModel"
   ]
  },
  {
   "cell_type": "code",
   "execution_count": 142,
   "metadata": {},
   "outputs": [
    {
     "data": {
      "text/plain": [
       "SelectFromModel(estimator=LinearRegression())"
      ]
     },
     "execution_count": 142,
     "metadata": {},
     "output_type": "execute_result"
    }
   ],
   "source": [
    "selection = SelectFromModel(LinearRegression())\n",
    "\n",
    "selection.fit(X,y)"
   ]
  },
  {
   "cell_type": "code",
   "execution_count": 143,
   "metadata": {},
   "outputs": [],
   "source": [
    "selected_features = X.columns[(selection.get_support())]"
   ]
  },
  {
   "cell_type": "code",
   "execution_count": 144,
   "metadata": {},
   "outputs": [
    {
     "data": {
      "text/plain": [
       "Index(['Cement', 'BlastFurnaceSlag', 'Age'], dtype='object')"
      ]
     },
     "execution_count": 144,
     "metadata": {},
     "output_type": "execute_result"
    }
   ],
   "source": [
    "selected_features"
   ]
  },
  {
   "cell_type": "code",
   "execution_count": 145,
   "metadata": {},
   "outputs": [],
   "source": [
    "# Seems like only 3 of these guys got selected"
   ]
  },
  {
   "cell_type": "code",
   "execution_count": 146,
   "metadata": {},
   "outputs": [],
   "source": [
    "X = concrete[['Cement', 'BlastFurnaceSlag', 'Age']]\n",
    "y = concrete['CompressiveStrength']\n",
    "\n",
    "X = sm.add_constant(X)"
   ]
  },
  {
   "cell_type": "code",
   "execution_count": 147,
   "metadata": {},
   "outputs": [],
   "source": [
    "model = sm.OLS(y,X).fit()"
   ]
  },
  {
   "cell_type": "code",
   "execution_count": 154,
   "metadata": {},
   "outputs": [
    {
     "name": "stdout",
     "output_type": "stream",
     "text": [
      "                   Results: Ordinary least squares\n",
      "=====================================================================\n",
      "Model:              OLS                 Adj. R-squared:     0.413    \n",
      "Dependent Variable: CompressiveStrength AIC:                8178.0129\n",
      "Date:               2020-12-27 18:24    BIC:                8197.7621\n",
      "No. Observations:   1030                Log-Likelihood:     -4085.0  \n",
      "Df Model:           3                   F-statistic:        242.7    \n",
      "Df Residuals:       1026                Prob (F-statistic): 5.25e-119\n",
      "R-squared:          0.415               Scale:              163.70   \n",
      "----------------------------------------------------------------------\n",
      "                     Coef.   Std.Err.     t     P>|t|   [0.025  0.975]\n",
      "----------------------------------------------------------------------\n",
      "const                2.9212    1.3402   2.1796  0.0295  0.2913  5.5510\n",
      "Cement               0.0889    0.0040  22.3444  0.0000  0.0811  0.0968\n",
      "BlastFurnaceSlag     0.0583    0.0048  12.1202  0.0000  0.0489  0.0677\n",
      "Age                  0.0784    0.0063  12.3777  0.0000  0.0660  0.0909\n",
      "---------------------------------------------------------------------\n",
      "Omnibus:                12.662        Durbin-Watson:           0.860 \n",
      "Prob(Omnibus):          0.002         Jarque-Bera (JB):        11.672\n",
      "Skew:                   0.214         Prob(JB):                0.003 \n",
      "Kurtosis:               2.702         Condition No.:           1043  \n",
      "=====================================================================\n",
      "* The condition number is large (1e+03). This might indicate\n",
      "strong multicollinearity or other numerical problems.\n"
     ]
    }
   ],
   "source": [
    "print(model.summary2())"
   ]
  },
  {
   "cell_type": "code",
   "execution_count": 149,
   "metadata": {},
   "outputs": [],
   "source": [
    "# However when we run the model , its R Sqaure is much less than previously build model"
   ]
  },
  {
   "cell_type": "code",
   "execution_count": 150,
   "metadata": {},
   "outputs": [],
   "source": [
    "# Let's look at residuals of the model\n",
    "\n",
    "from statsmodels.stats.outliers_influence import OLSInfluence"
   ]
  },
  {
   "cell_type": "code",
   "execution_count": 151,
   "metadata": {},
   "outputs": [],
   "source": [
    "influence = OLSInfluence(model)"
   ]
  },
  {
   "cell_type": "code",
   "execution_count": 153,
   "metadata": {},
   "outputs": [
    {
     "data": {
      "text/plain": [
       "(0       0.008034\n",
       " 1       0.000853\n",
       " 2       0.010619\n",
       " 3       0.035012\n",
       " 4       0.006470\n",
       "           ...   \n",
       " 1025    0.000120\n",
       " 1026    0.000019\n",
       " 1027    0.000032\n",
       " 1028    0.000035\n",
       " 1029    0.000006\n",
       " Length: 1030, dtype: float64,\n",
       " array([0.99987202, 0.99999855, 0.99977724, ..., 1.        , 1.        ,\n",
       "        1.        ]))"
      ]
     },
     "execution_count": 153,
     "metadata": {},
     "output_type": "execute_result"
    }
   ],
   "source": [
    "influence.cooks_distance"
   ]
  },
  {
   "cell_type": "code",
   "execution_count": 155,
   "metadata": {},
   "outputs": [
    {
     "data": {
      "text/plain": [
       "Index(['Cement', 'BlastFurnaceSlag', 'FlyAsh', 'Water', 'Superplasticizer',\n",
       "       'CoarseAggregate', 'FineAggregate', 'Age', 'CompressiveStrength'],\n",
       "      dtype='object')"
      ]
     },
     "execution_count": 155,
     "metadata": {},
     "output_type": "execute_result"
    }
   ],
   "source": [
    "concrete.columns"
   ]
  },
  {
   "cell_type": "code",
   "execution_count": 156,
   "metadata": {},
   "outputs": [],
   "source": [
    "X = concrete[['Cement', 'BlastFurnaceSlag', 'FlyAsh', 'Water', 'Superplasticizer','CoarseAggregate', 'FineAggregate', 'Age']]\n",
    "y = concrete['CompressiveStrength']"
   ]
  },
  {
   "cell_type": "code",
   "execution_count": 157,
   "metadata": {},
   "outputs": [],
   "source": [
    "X = sm.add_constant(X)"
   ]
  },
  {
   "cell_type": "code",
   "execution_count": 158,
   "metadata": {},
   "outputs": [],
   "source": [
    "model = sm.OLS(y,X).fit()"
   ]
  },
  {
   "cell_type": "code",
   "execution_count": 160,
   "metadata": {},
   "outputs": [
    {
     "name": "stdout",
     "output_type": "stream",
     "text": [
      "                             OLS Regression Results                            \n",
      "===============================================================================\n",
      "Dep. Variable:     CompressiveStrength   R-squared:                       0.616\n",
      "Model:                             OLS   Adj. R-squared:                  0.613\n",
      "Method:                  Least Squares   F-statistic:                     204.3\n",
      "Date:                 Sun, 27 Dec 2020   Prob (F-statistic):          6.29e-206\n",
      "Time:                         18:27:28   Log-Likelihood:                -3869.0\n",
      "No. Observations:                 1030   AIC:                             7756.\n",
      "Df Residuals:                     1021   BIC:                             7800.\n",
      "Df Model:                            8                                         \n",
      "Covariance Type:             nonrobust                                         \n",
      "====================================================================================\n",
      "                       coef    std err          t      P>|t|      [0.025      0.975]\n",
      "------------------------------------------------------------------------------------\n",
      "const              -23.3312     26.586     -0.878      0.380     -75.500      28.837\n",
      "Cement               0.1198      0.008     14.113      0.000       0.103       0.136\n",
      "BlastFurnaceSlag     0.1039      0.010     10.247      0.000       0.084       0.124\n",
      "FlyAsh               0.0879      0.013      6.988      0.000       0.063       0.113\n",
      "Water               -0.1499      0.040     -3.731      0.000      -0.229      -0.071\n",
      "Superplasticizer     0.2922      0.093      3.128      0.002       0.109       0.476\n",
      "CoarseAggregate      0.0181      0.009      1.926      0.054      -0.000       0.037\n",
      "FineAggregate        0.0202      0.011      1.887      0.059      -0.001       0.041\n",
      "Age                  0.1142      0.005     21.046      0.000       0.104       0.125\n",
      "==============================================================================\n",
      "Omnibus:                        5.378   Durbin-Watson:                   1.282\n",
      "Prob(Omnibus):                  0.068   Jarque-Bera (JB):                5.304\n",
      "Skew:                          -0.174   Prob(JB):                       0.0705\n",
      "Kurtosis:                       3.045   Cond. No.                     1.06e+05\n",
      "==============================================================================\n",
      "\n",
      "Notes:\n",
      "[1] Standard Errors assume that the covariance matrix of the errors is correctly specified.\n",
      "[2] The condition number is large, 1.06e+05. This might indicate that there are\n",
      "strong multicollinearity or other numerical problems.\n"
     ]
    }
   ],
   "source": [
    "print(model.summary())"
   ]
  },
  {
   "cell_type": "code",
   "execution_count": 161,
   "metadata": {},
   "outputs": [],
   "source": [
    "#  Cement is statistically signifcant predictor (at the 0.05 level) , relative to a model with all other predictors includd"
   ]
  },
  {
   "cell_type": "code",
   "execution_count": 162,
   "metadata": {},
   "outputs": [],
   "source": [
    "# with one unit change in Cement , the compressive strneght will increase by 0.12 holding the other predictor fixed"
   ]
  },
  {
   "cell_type": "code",
   "execution_count": null,
   "metadata": {},
   "outputs": [],
   "source": []
  },
  {
   "cell_type": "code",
   "execution_count": null,
   "metadata": {},
   "outputs": [],
   "source": []
  },
  {
   "cell_type": "code",
   "execution_count": null,
   "metadata": {},
   "outputs": [],
   "source": []
  },
  {
   "cell_type": "code",
   "execution_count": null,
   "metadata": {},
   "outputs": [],
   "source": []
  },
  {
   "cell_type": "code",
   "execution_count": null,
   "metadata": {},
   "outputs": [],
   "source": []
  },
  {
   "cell_type": "code",
   "execution_count": null,
   "metadata": {},
   "outputs": [],
   "source": []
  },
  {
   "cell_type": "code",
   "execution_count": null,
   "metadata": {},
   "outputs": [],
   "source": []
  },
  {
   "cell_type": "code",
   "execution_count": null,
   "metadata": {},
   "outputs": [],
   "source": []
  },
  {
   "cell_type": "code",
   "execution_count": null,
   "metadata": {},
   "outputs": [],
   "source": []
  },
  {
   "cell_type": "code",
   "execution_count": null,
   "metadata": {},
   "outputs": [],
   "source": []
  },
  {
   "cell_type": "code",
   "execution_count": null,
   "metadata": {},
   "outputs": [],
   "source": []
  },
  {
   "cell_type": "code",
   "execution_count": null,
   "metadata": {},
   "outputs": [],
   "source": []
  },
  {
   "cell_type": "code",
   "execution_count": null,
   "metadata": {},
   "outputs": [],
   "source": []
  },
  {
   "cell_type": "code",
   "execution_count": null,
   "metadata": {},
   "outputs": [],
   "source": []
  },
  {
   "cell_type": "code",
   "execution_count": null,
   "metadata": {},
   "outputs": [],
   "source": []
  },
  {
   "cell_type": "code",
   "execution_count": null,
   "metadata": {},
   "outputs": [],
   "source": []
  },
  {
   "cell_type": "code",
   "execution_count": null,
   "metadata": {},
   "outputs": [],
   "source": []
  },
  {
   "cell_type": "code",
   "execution_count": null,
   "metadata": {},
   "outputs": [],
   "source": []
  },
  {
   "cell_type": "code",
   "execution_count": null,
   "metadata": {},
   "outputs": [],
   "source": []
  },
  {
   "cell_type": "code",
   "execution_count": null,
   "metadata": {},
   "outputs": [],
   "source": []
  }
 ],
 "metadata": {
  "kernelspec": {
   "display_name": "Python 3",
   "language": "python",
   "name": "python3"
  },
  "language_info": {
   "codemirror_mode": {
    "name": "ipython",
    "version": 3
   },
   "file_extension": ".py",
   "mimetype": "text/x-python",
   "name": "python",
   "nbconvert_exporter": "python",
   "pygments_lexer": "ipython3",
   "version": "3.8.5"
  }
 },
 "nbformat": 4,
 "nbformat_minor": 4
}
