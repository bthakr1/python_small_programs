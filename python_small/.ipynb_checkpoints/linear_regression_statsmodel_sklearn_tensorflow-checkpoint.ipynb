{
 "cells": [
  {
   "cell_type": "code",
   "execution_count": 11,
   "metadata": {},
   "outputs": [],
   "source": [
    "import pandas as pd\n",
    "import seaborn as sns\n",
    "import matplotlib.pyplot as plt\n",
    "import statsmodels.api as sm\n",
    "import numpy as np"
   ]
  },
  {
   "cell_type": "code",
   "execution_count": 3,
   "metadata": {},
   "outputs": [],
   "source": [
    "concrete = pd.read_csv('concrete.csv')"
   ]
  },
  {
   "cell_type": "code",
   "execution_count": 6,
   "metadata": {},
   "outputs": [],
   "source": [
    "concrete.drop('Unnamed: 0', axis=1, inplace=True)"
   ]
  },
  {
   "cell_type": "code",
   "execution_count": 7,
   "metadata": {},
   "outputs": [
    {
     "data": {
      "text/html": [
       "<div>\n",
       "<style scoped>\n",
       "    .dataframe tbody tr th:only-of-type {\n",
       "        vertical-align: middle;\n",
       "    }\n",
       "\n",
       "    .dataframe tbody tr th {\n",
       "        vertical-align: top;\n",
       "    }\n",
       "\n",
       "    .dataframe thead th {\n",
       "        text-align: right;\n",
       "    }\n",
       "</style>\n",
       "<table border=\"1\" class=\"dataframe\">\n",
       "  <thead>\n",
       "    <tr style=\"text-align: right;\">\n",
       "      <th></th>\n",
       "      <th>Cement</th>\n",
       "      <th>BlastFurnaceSlag</th>\n",
       "      <th>FlyAsh</th>\n",
       "      <th>Water</th>\n",
       "      <th>Superplasticizer</th>\n",
       "      <th>CoarseAggregate</th>\n",
       "      <th>FineAggregate</th>\n",
       "      <th>Age</th>\n",
       "      <th>CompressiveStrength</th>\n",
       "    </tr>\n",
       "  </thead>\n",
       "  <tbody>\n",
       "    <tr>\n",
       "      <th>0</th>\n",
       "      <td>540.0</td>\n",
       "      <td>0.0</td>\n",
       "      <td>0.0</td>\n",
       "      <td>162.0</td>\n",
       "      <td>2.5</td>\n",
       "      <td>1040.0</td>\n",
       "      <td>676.0</td>\n",
       "      <td>28</td>\n",
       "      <td>79.99</td>\n",
       "    </tr>\n",
       "    <tr>\n",
       "      <th>1</th>\n",
       "      <td>540.0</td>\n",
       "      <td>0.0</td>\n",
       "      <td>0.0</td>\n",
       "      <td>162.0</td>\n",
       "      <td>2.5</td>\n",
       "      <td>1055.0</td>\n",
       "      <td>676.0</td>\n",
       "      <td>28</td>\n",
       "      <td>61.89</td>\n",
       "    </tr>\n",
       "    <tr>\n",
       "      <th>2</th>\n",
       "      <td>332.5</td>\n",
       "      <td>142.5</td>\n",
       "      <td>0.0</td>\n",
       "      <td>228.0</td>\n",
       "      <td>0.0</td>\n",
       "      <td>932.0</td>\n",
       "      <td>594.0</td>\n",
       "      <td>270</td>\n",
       "      <td>40.27</td>\n",
       "    </tr>\n",
       "    <tr>\n",
       "      <th>3</th>\n",
       "      <td>332.5</td>\n",
       "      <td>142.5</td>\n",
       "      <td>0.0</td>\n",
       "      <td>228.0</td>\n",
       "      <td>0.0</td>\n",
       "      <td>932.0</td>\n",
       "      <td>594.0</td>\n",
       "      <td>365</td>\n",
       "      <td>41.05</td>\n",
       "    </tr>\n",
       "    <tr>\n",
       "      <th>4</th>\n",
       "      <td>198.6</td>\n",
       "      <td>132.4</td>\n",
       "      <td>0.0</td>\n",
       "      <td>192.0</td>\n",
       "      <td>0.0</td>\n",
       "      <td>978.4</td>\n",
       "      <td>825.5</td>\n",
       "      <td>360</td>\n",
       "      <td>44.30</td>\n",
       "    </tr>\n",
       "  </tbody>\n",
       "</table>\n",
       "</div>"
      ],
      "text/plain": [
       "   Cement  BlastFurnaceSlag  FlyAsh  ...  FineAggregate  Age  CompressiveStrength\n",
       "0   540.0               0.0     0.0  ...          676.0   28                79.99\n",
       "1   540.0               0.0     0.0  ...          676.0   28                61.89\n",
       "2   332.5             142.5     0.0  ...          594.0  270                40.27\n",
       "3   332.5             142.5     0.0  ...          594.0  365                41.05\n",
       "4   198.6             132.4     0.0  ...          825.5  360                44.30\n",
       "\n",
       "[5 rows x 9 columns]"
      ]
     },
     "execution_count": 7,
     "metadata": {},
     "output_type": "execute_result"
    }
   ],
   "source": [
    "concrete.head()"
   ]
  },
  {
   "cell_type": "code",
   "execution_count": 9,
   "metadata": {},
   "outputs": [
    {
     "name": "stdout",
     "output_type": "stream",
     "text": [
      "<class 'pandas.core.frame.DataFrame'>\n",
      "RangeIndex: 1030 entries, 0 to 1029\n",
      "Data columns (total 9 columns):\n",
      " #   Column               Non-Null Count  Dtype  \n",
      "---  ------               --------------  -----  \n",
      " 0   Cement               1030 non-null   float64\n",
      " 1   BlastFurnaceSlag     1030 non-null   float64\n",
      " 2   FlyAsh               1030 non-null   float64\n",
      " 3   Water                1030 non-null   float64\n",
      " 4   Superplasticizer     1030 non-null   float64\n",
      " 5   CoarseAggregate      1030 non-null   float64\n",
      " 6   FineAggregate        1030 non-null   float64\n",
      " 7   Age                  1030 non-null   int64  \n",
      " 8   CompressiveStrength  1030 non-null   float64\n",
      "dtypes: float64(8), int64(1)\n",
      "memory usage: 72.5 KB\n"
     ]
    }
   ],
   "source": [
    "concrete.info()"
   ]
  },
  {
   "cell_type": "code",
   "execution_count": 25,
   "metadata": {},
   "outputs": [
    {
     "data": {
      "text/plain": [
       "Index(['Cement', 'BlastFurnaceSlag', 'FlyAsh', 'Water', 'Superplasticizer',\n",
       "       'CoarseAggregate', 'FineAggregate', 'Age', 'CompressiveStrength'],\n",
       "      dtype='object')"
      ]
     },
     "execution_count": 25,
     "metadata": {},
     "output_type": "execute_result"
    }
   ],
   "source": [
    "concrete.columns"
   ]
  },
  {
   "cell_type": "code",
   "execution_count": 56,
   "metadata": {},
   "outputs": [],
   "source": [
    "X = concrete[['Cement', 'BlastFurnaceSlag', 'FlyAsh', 'Water', 'Superplasticizer','CoarseAggregate', 'FineAggregate', 'Age']]\n",
    "y = concrete['CompressiveStrength']"
   ]
  },
  {
   "cell_type": "code",
   "execution_count": 68,
   "metadata": {},
   "outputs": [],
   "source": [
    "X = sm.add_constant(X)"
   ]
  },
  {
   "cell_type": "code",
   "execution_count": 80,
   "metadata": {},
   "outputs": [],
   "source": [
    "model = sm.OLS(y,X).fit()"
   ]
  },
  {
   "cell_type": "code",
   "execution_count": 81,
   "metadata": {},
   "outputs": [],
   "source": [
    "predictions = model.predict(X)"
   ]
  },
  {
   "cell_type": "code",
   "execution_count": 83,
   "metadata": {},
   "outputs": [
    {
     "data": {
      "text/html": [
       "<table class=\"simpletable\">\n",
       "<tr>\n",
       "        <td>Model:</td>                <td>OLS</td>           <td>Adj. R-squared:</td>     <td>0.613</td>  \n",
       "</tr>\n",
       "<tr>\n",
       "  <td>Dependent Variable:</td> <td>CompressiveStrength</td>        <td>AIC:</td>         <td>7755.9240</td>\n",
       "</tr>\n",
       "<tr>\n",
       "         <td>Date:</td>         <td>2020-12-26 13:21</td>          <td>BIC:</td>         <td>7800.3598</td>\n",
       "</tr>\n",
       "<tr>\n",
       "   <td>No. Observations:</td>         <td>1030</td>           <td>Log-Likelihood:</td>    <td>-3869.0</td> \n",
       "</tr>\n",
       "<tr>\n",
       "       <td>Df Model:</td>               <td>8</td>             <td>F-statistic:</td>       <td>204.3</td>  \n",
       "</tr>\n",
       "<tr>\n",
       "     <td>Df Residuals:</td>           <td>1021</td>         <td>Prob (F-statistic):</td> <td>6.29e-206</td>\n",
       "</tr>\n",
       "<tr>\n",
       "      <td>R-squared:</td>             <td>0.616</td>              <td>Scale:</td>         <td>108.14</td>  \n",
       "</tr>\n",
       "</table>\n",
       "<table class=\"simpletable\">\n",
       "<tr>\n",
       "          <td></td>           <th>Coef.</th>  <th>Std.Err.</th>    <th>t</th>     <th>P>|t|</th>  <th>[0.025</th>  <th>0.975]</th> \n",
       "</tr>\n",
       "<tr>\n",
       "  <th>const</th>            <td>-23.3312</td>  <td>26.5855</td> <td>-0.8776</td> <td>0.3804</td> <td>-75.4997</td> <td>28.8373</td>\n",
       "</tr>\n",
       "<tr>\n",
       "  <th>Cement</th>            <td>0.1198</td>   <td>0.0085</td>  <td>14.1129</td> <td>0.0000</td>  <td>0.1031</td>  <td>0.1365</td> \n",
       "</tr>\n",
       "<tr>\n",
       "  <th>BlastFurnaceSlag</th>  <td>0.1039</td>   <td>0.0101</td>  <td>10.2474</td> <td>0.0000</td>  <td>0.0840</td>  <td>0.1238</td> \n",
       "</tr>\n",
       "<tr>\n",
       "  <th>FlyAsh</th>            <td>0.0879</td>   <td>0.0126</td>  <td>6.9882</td>  <td>0.0000</td>  <td>0.0632</td>  <td>0.1126</td> \n",
       "</tr>\n",
       "<tr>\n",
       "  <th>Water</th>             <td>-0.1499</td>  <td>0.0402</td>  <td>-3.7314</td> <td>0.0002</td>  <td>-0.2288</td> <td>-0.0711</td>\n",
       "</tr>\n",
       "<tr>\n",
       "  <th>Superplasticizer</th>  <td>0.2922</td>   <td>0.0934</td>  <td>3.1279</td>  <td>0.0018</td>  <td>0.1089</td>  <td>0.4755</td> \n",
       "</tr>\n",
       "<tr>\n",
       "  <th>CoarseAggregate</th>   <td>0.0181</td>   <td>0.0094</td>  <td>1.9257</td>  <td>0.0544</td>  <td>-0.0003</td> <td>0.0365</td> \n",
       "</tr>\n",
       "<tr>\n",
       "  <th>FineAggregate</th>     <td>0.0202</td>   <td>0.0107</td>  <td>1.8867</td>  <td>0.0595</td>  <td>-0.0008</td> <td>0.0412</td> \n",
       "</tr>\n",
       "<tr>\n",
       "  <th>Age</th>               <td>0.1142</td>   <td>0.0054</td>  <td>21.0464</td> <td>0.0000</td>  <td>0.1036</td>  <td>0.1249</td> \n",
       "</tr>\n",
       "</table>\n",
       "<table class=\"simpletable\">\n",
       "<tr>\n",
       "     <td>Omnibus:</td>     <td>5.378</td>  <td>Durbin-Watson:</td>    <td>1.282</td>\n",
       "</tr>\n",
       "<tr>\n",
       "  <td>Prob(Omnibus):</td>  <td>0.068</td> <td>Jarque-Bera (JB):</td>  <td>5.304</td>\n",
       "</tr>\n",
       "<tr>\n",
       "       <td>Skew:</td>     <td>-0.174</td>     <td>Prob(JB):</td>      <td>0.071</td>\n",
       "</tr>\n",
       "<tr>\n",
       "     <td>Kurtosis:</td>    <td>3.045</td>  <td>Condition No.:</td>   <td>106075</td>\n",
       "</tr>\n",
       "</table>"
      ],
      "text/plain": [
       "<class 'statsmodels.iolib.summary2.Summary'>\n",
       "\"\"\"\n",
       "                   Results: Ordinary least squares\n",
       "=====================================================================\n",
       "Model:              OLS                 Adj. R-squared:     0.613    \n",
       "Dependent Variable: CompressiveStrength AIC:                7755.9240\n",
       "Date:               2020-12-26 13:21    BIC:                7800.3598\n",
       "No. Observations:   1030                Log-Likelihood:     -3869.0  \n",
       "Df Model:           8                   F-statistic:        204.3    \n",
       "Df Residuals:       1021                Prob (F-statistic): 6.29e-206\n",
       "R-squared:          0.616               Scale:              108.14   \n",
       "---------------------------------------------------------------------\n",
       "                     Coef.   Std.Err.    t    P>|t|   [0.025   0.975]\n",
       "---------------------------------------------------------------------\n",
       "const               -23.3312  26.5855 -0.8776 0.3804 -75.4997 28.8373\n",
       "Cement                0.1198   0.0085 14.1129 0.0000   0.1031  0.1365\n",
       "BlastFurnaceSlag      0.1039   0.0101 10.2474 0.0000   0.0840  0.1238\n",
       "FlyAsh                0.0879   0.0126  6.9882 0.0000   0.0632  0.1126\n",
       "Water                -0.1499   0.0402 -3.7314 0.0002  -0.2288 -0.0711\n",
       "Superplasticizer      0.2922   0.0934  3.1279 0.0018   0.1089  0.4755\n",
       "CoarseAggregate       0.0181   0.0094  1.9257 0.0544  -0.0003  0.0365\n",
       "FineAggregate         0.0202   0.0107  1.8867 0.0595  -0.0008  0.0412\n",
       "Age                   0.1142   0.0054 21.0464 0.0000   0.1036  0.1249\n",
       "---------------------------------------------------------------------\n",
       "Omnibus:                5.378         Durbin-Watson:           1.282 \n",
       "Prob(Omnibus):          0.068         Jarque-Bera (JB):        5.304 \n",
       "Skew:                   -0.174        Prob(JB):                0.071 \n",
       "Kurtosis:               3.045         Condition No.:           106075\n",
       "=====================================================================\n",
       "* The condition number is large (1e+05). This might indicate\n",
       "strong multicollinearity or other numerical problems.\n",
       "\"\"\""
      ]
     },
     "execution_count": 83,
     "metadata": {},
     "output_type": "execute_result"
    }
   ],
   "source": [
    "model.summary2()"
   ]
  },
  {
   "cell_type": "code",
   "execution_count": 84,
   "metadata": {},
   "outputs": [],
   "source": [
    "# Adjusted R Square : R Square tends to increase even if the additional input do not add any value to the model. Adjusted R ßquare compensates for it. \n",
    "# R Square measures the proportion of variability explained by feautre on the target. \n",
    "\n",
    "# R Square = 1 - (SSE/SST)\n",
    "# Adjusted R Square = 1 - [(1-Rsquare)(n-1)/(n-k-1)]\n",
    "\n",
    "# n : number of samples\n",
    "# k : number of features\n",
    "\n",
    "# Adj. R Sqaure pf 0.613 means 61 % of variatios in the increase in compresive strength is explained by the features used in the model"
   ]
  },
  {
   "cell_type": "code",
   "execution_count": 92,
   "metadata": {},
   "outputs": [],
   "source": [
    "# AIC and BIC will be used when we have different models to compare.\n",
    "\n",
    "# AIC determines the relative informational value of the model using the maximum likelihood estimation and number of features\n",
    "# AIC = 2k - 2ln(L) where k is the number of features and L is the maximum likelihood estimation\n",
    "# For a number of different model, AIC with the lowest value will be chosen as the best model\n",
    "\n",
    "# BIC similar as AIC but based on Bayesian estimates. Similarly the lowest value be chosen."
   ]
  },
  {
   "cell_type": "code",
   "execution_count": 93,
   "metadata": {},
   "outputs": [],
   "source": [
    "# Std. Error of the variable measures how much uncertainity is asscoaited with each variable. Lower the better.\n",
    "# t stat is coefficient / std. error. Cememnt stands 14 std. deviation from Zero. \n",
    "# p >|t| means the p value of each variable and how significant are these variables\n",
    "# [0.025 0.975] : The range for confidence for each variable. For example in case of \"age\" , we are 95% confident that a one year increase in age \n",
    "# will correspond to 0.1026 and 0.1249 increase in compressive strength, while keeping other factors constant"
   ]
  },
  {
   "cell_type": "code",
   "execution_count": 94,
   "metadata": {},
   "outputs": [],
   "source": [
    "# we can see from the above model that \"Fine Aggregate\" and \"Coarse Aggregate\" has p value much higher and 95% confidennce has 0 in the range. \n",
    "# Let's remove these two feature and run the model again to see if we improved."
   ]
  },
  {
   "cell_type": "code",
   "execution_count": 100,
   "metadata": {},
   "outputs": [],
   "source": [
    "X = concrete[['Cement', 'BlastFurnaceSlag', 'FlyAsh', 'Water', 'Superplasticizer','Age']]\n",
    "y = concrete['CompressiveStrength']\n",
    "X = sm.add_constant(X)"
   ]
  },
  {
   "cell_type": "code",
   "execution_count": 101,
   "metadata": {},
   "outputs": [],
   "source": [
    "model = sm.OLS(y,X).fit()"
   ]
  },
  {
   "cell_type": "code",
   "execution_count": 102,
   "metadata": {},
   "outputs": [],
   "source": [
    "predictions = model.predict(X)"
   ]
  },
  {
   "cell_type": "code",
   "execution_count": 103,
   "metadata": {},
   "outputs": [
    {
     "data": {
      "text/html": [
       "<table class=\"simpletable\">\n",
       "<tr>\n",
       "        <td>Model:</td>                <td>OLS</td>           <td>Adj. R-squared:</td>     <td>0.612</td>  \n",
       "</tr>\n",
       "<tr>\n",
       "  <td>Dependent Variable:</td> <td>CompressiveStrength</td>        <td>AIC:</td>         <td>7755.9279</td>\n",
       "</tr>\n",
       "<tr>\n",
       "         <td>Date:</td>         <td>2020-12-26 18:21</td>          <td>BIC:</td>         <td>7790.4891</td>\n",
       "</tr>\n",
       "<tr>\n",
       "   <td>No. Observations:</td>         <td>1030</td>           <td>Log-Likelihood:</td>    <td>-3871.0</td> \n",
       "</tr>\n",
       "<tr>\n",
       "       <td>Df Model:</td>               <td>6</td>             <td>F-statistic:</td>       <td>271.2</td>  \n",
       "</tr>\n",
       "<tr>\n",
       "     <td>Df Residuals:</td>           <td>1023</td>         <td>Prob (F-statistic):</td> <td>1.67e-207</td>\n",
       "</tr>\n",
       "<tr>\n",
       "      <td>R-squared:</td>             <td>0.614</td>              <td>Scale:</td>         <td>108.35</td>  \n",
       "</tr>\n",
       "</table>\n",
       "<table class=\"simpletable\">\n",
       "<tr>\n",
       "          <td></td>          <th>Coef.</th>  <th>Std.Err.</th>     <th>t</th>     <th>P>|t|</th> <th>[0.025</th>  <th>0.975]</th> \n",
       "</tr>\n",
       "<tr>\n",
       "  <th>const</th>            <td>28.9930</td>  <td>4.2132</td>   <td>6.8815</td>  <td>0.0000</td> <td>20.7255</td> <td>37.2605</td>\n",
       "</tr>\n",
       "<tr>\n",
       "  <th>Cement</th>           <td>0.1054</td>   <td>0.0042</td>   <td>24.8248</td> <td>0.0000</td> <td>0.0971</td>  <td>0.1137</td> \n",
       "</tr>\n",
       "<tr>\n",
       "  <th>BlastFurnaceSlag</th> <td>0.0865</td>   <td>0.0050</td>   <td>17.3854</td> <td>0.0000</td> <td>0.0767</td>  <td>0.0962</td> \n",
       "</tr>\n",
       "<tr>\n",
       "  <th>FlyAsh</th>           <td>0.0687</td>   <td>0.0077</td>   <td>8.8766</td>  <td>0.0000</td> <td>0.0535</td>  <td>0.0838</td> \n",
       "</tr>\n",
       "<tr>\n",
       "  <th>Water</th>            <td>-0.2181</td>  <td>0.0211</td>  <td>-10.3215</td> <td>0.0000</td> <td>-0.2596</td> <td>-0.1766</td>\n",
       "</tr>\n",
       "<tr>\n",
       "  <th>Superplasticizer</th> <td>0.2403</td>   <td>0.0846</td>   <td>2.8417</td>  <td>0.0046</td> <td>0.0744</td>  <td>0.4063</td> \n",
       "</tr>\n",
       "<tr>\n",
       "  <th>Age</th>              <td>0.1135</td>   <td>0.0054</td>   <td>20.9880</td> <td>0.0000</td> <td>0.1029</td>  <td>0.1241</td> \n",
       "</tr>\n",
       "</table>\n",
       "<table class=\"simpletable\">\n",
       "<tr>\n",
       "     <td>Omnibus:</td>     <td>5.229</td>  <td>Durbin-Watson:</td>   <td>1.286</td>\n",
       "</tr>\n",
       "<tr>\n",
       "  <td>Prob(Omnibus):</td>  <td>0.073</td> <td>Jarque-Bera (JB):</td> <td>5.189</td>\n",
       "</tr>\n",
       "<tr>\n",
       "       <td>Skew:</td>     <td>-0.174</td>     <td>Prob(JB):</td>     <td>0.075</td>\n",
       "</tr>\n",
       "<tr>\n",
       "     <td>Kurtosis:</td>    <td>3.019</td>  <td>Condition No.:</td>   <td>4662</td> \n",
       "</tr>\n",
       "</table>"
      ],
      "text/plain": [
       "<class 'statsmodels.iolib.summary2.Summary'>\n",
       "\"\"\"\n",
       "                   Results: Ordinary least squares\n",
       "=====================================================================\n",
       "Model:              OLS                 Adj. R-squared:     0.612    \n",
       "Dependent Variable: CompressiveStrength AIC:                7755.9279\n",
       "Date:               2020-12-26 18:21    BIC:                7790.4891\n",
       "No. Observations:   1030                Log-Likelihood:     -3871.0  \n",
       "Df Model:           6                   F-statistic:        271.2    \n",
       "Df Residuals:       1023                Prob (F-statistic): 1.67e-207\n",
       "R-squared:          0.614               Scale:              108.35   \n",
       "---------------------------------------------------------------------\n",
       "                      Coef.  Std.Err.    t     P>|t|   [0.025  0.975]\n",
       "---------------------------------------------------------------------\n",
       "const                28.9930   4.2132   6.8815 0.0000 20.7255 37.2605\n",
       "Cement                0.1054   0.0042  24.8248 0.0000  0.0971  0.1137\n",
       "BlastFurnaceSlag      0.0865   0.0050  17.3854 0.0000  0.0767  0.0962\n",
       "FlyAsh                0.0687   0.0077   8.8766 0.0000  0.0535  0.0838\n",
       "Water                -0.2181   0.0211 -10.3215 0.0000 -0.2596 -0.1766\n",
       "Superplasticizer      0.2403   0.0846   2.8417 0.0046  0.0744  0.4063\n",
       "Age                   0.1135   0.0054  20.9880 0.0000  0.1029  0.1241\n",
       "---------------------------------------------------------------------\n",
       "Omnibus:               5.229          Durbin-Watson:            1.286\n",
       "Prob(Omnibus):         0.073          Jarque-Bera (JB):         5.189\n",
       "Skew:                  -0.174         Prob(JB):                 0.075\n",
       "Kurtosis:              3.019          Condition No.:            4662 \n",
       "=====================================================================\n",
       "* The condition number is large (5e+03). This might indicate\n",
       "strong multicollinearity or other numerical problems.\n",
       "\"\"\""
      ]
     },
     "execution_count": 103,
     "metadata": {},
     "output_type": "execute_result"
    }
   ],
   "source": [
    "model.summary2()"
   ]
  },
  {
   "cell_type": "code",
   "execution_count": null,
   "metadata": {},
   "outputs": [],
   "source": [
    "# The new model's Adjusted R Square is still same at 61 % so no improvements.\n",
    "# The coefficient for \"Cemenrt\" is 0.1054 with 95% CI between 0.0971 and 0.1137 it means that with one unit increase in cement , the Compressive Strength increase by 0.1054\n",
    "# Also the 95 % CI tells that if we repeat this procedure numerous times, around 95 % probablity that caluclated CI from some future experiments encompasses the value of cement coefficient \n",
    "# between 0.09 and 0.11"
   ]
  },
  {
   "cell_type": "code",
   "execution_count": 104,
   "metadata": {},
   "outputs": [],
   "source": [
    "# SST : Sum of Square Total : Sum of Squared difference between the observed dependent variable and its mean of dependent variable\n",
    "# SSR : Sum of Square due to Regression : Sum of the squared difference between the predicated value and mean of the dependent variable\n",
    "# SSE : Sum of Square Error : Sum of squared between the observed value and the predicted value\n",
    "# SST = SSE + SSR"
   ]
  },
  {
   "cell_type": "code",
   "execution_count": 105,
   "metadata": {},
   "outputs": [
    {
     "data": {
      "text/html": [
       "<div>\n",
       "<style scoped>\n",
       "    .dataframe tbody tr th:only-of-type {\n",
       "        vertical-align: middle;\n",
       "    }\n",
       "\n",
       "    .dataframe tbody tr th {\n",
       "        vertical-align: top;\n",
       "    }\n",
       "\n",
       "    .dataframe thead th {\n",
       "        text-align: right;\n",
       "    }\n",
       "</style>\n",
       "<table border=\"1\" class=\"dataframe\">\n",
       "  <thead>\n",
       "    <tr style=\"text-align: right;\">\n",
       "      <th></th>\n",
       "      <th>Cement</th>\n",
       "      <th>BlastFurnaceSlag</th>\n",
       "      <th>FlyAsh</th>\n",
       "      <th>Water</th>\n",
       "      <th>Superplasticizer</th>\n",
       "      <th>CoarseAggregate</th>\n",
       "      <th>FineAggregate</th>\n",
       "      <th>Age</th>\n",
       "      <th>CompressiveStrength</th>\n",
       "    </tr>\n",
       "  </thead>\n",
       "  <tbody>\n",
       "    <tr>\n",
       "      <th>0</th>\n",
       "      <td>540.0</td>\n",
       "      <td>0.0</td>\n",
       "      <td>0.0</td>\n",
       "      <td>162.0</td>\n",
       "      <td>2.5</td>\n",
       "      <td>1040.0</td>\n",
       "      <td>676.0</td>\n",
       "      <td>28</td>\n",
       "      <td>79.99</td>\n",
       "    </tr>\n",
       "    <tr>\n",
       "      <th>1</th>\n",
       "      <td>540.0</td>\n",
       "      <td>0.0</td>\n",
       "      <td>0.0</td>\n",
       "      <td>162.0</td>\n",
       "      <td>2.5</td>\n",
       "      <td>1055.0</td>\n",
       "      <td>676.0</td>\n",
       "      <td>28</td>\n",
       "      <td>61.89</td>\n",
       "    </tr>\n",
       "    <tr>\n",
       "      <th>2</th>\n",
       "      <td>332.5</td>\n",
       "      <td>142.5</td>\n",
       "      <td>0.0</td>\n",
       "      <td>228.0</td>\n",
       "      <td>0.0</td>\n",
       "      <td>932.0</td>\n",
       "      <td>594.0</td>\n",
       "      <td>270</td>\n",
       "      <td>40.27</td>\n",
       "    </tr>\n",
       "    <tr>\n",
       "      <th>3</th>\n",
       "      <td>332.5</td>\n",
       "      <td>142.5</td>\n",
       "      <td>0.0</td>\n",
       "      <td>228.0</td>\n",
       "      <td>0.0</td>\n",
       "      <td>932.0</td>\n",
       "      <td>594.0</td>\n",
       "      <td>365</td>\n",
       "      <td>41.05</td>\n",
       "    </tr>\n",
       "    <tr>\n",
       "      <th>4</th>\n",
       "      <td>198.6</td>\n",
       "      <td>132.4</td>\n",
       "      <td>0.0</td>\n",
       "      <td>192.0</td>\n",
       "      <td>0.0</td>\n",
       "      <td>978.4</td>\n",
       "      <td>825.5</td>\n",
       "      <td>360</td>\n",
       "      <td>44.30</td>\n",
       "    </tr>\n",
       "  </tbody>\n",
       "</table>\n",
       "</div>"
      ],
      "text/plain": [
       "   Cement  BlastFurnaceSlag  FlyAsh  ...  FineAggregate  Age  CompressiveStrength\n",
       "0   540.0               0.0     0.0  ...          676.0   28                79.99\n",
       "1   540.0               0.0     0.0  ...          676.0   28                61.89\n",
       "2   332.5             142.5     0.0  ...          594.0  270                40.27\n",
       "3   332.5             142.5     0.0  ...          594.0  365                41.05\n",
       "4   198.6             132.4     0.0  ...          825.5  360                44.30\n",
       "\n",
       "[5 rows x 9 columns]"
      ]
     },
     "execution_count": 105,
     "metadata": {},
     "output_type": "execute_result"
    }
   ],
   "source": [
    "concrete.head()"
   ]
  },
  {
   "cell_type": "code",
   "execution_count": 106,
   "metadata": {},
   "outputs": [
    {
     "data": {
      "text/plain": [
       "<matplotlib.axes._subplots.AxesSubplot at 0x7fb78c11d358>"
      ]
     },
     "execution_count": 106,
     "metadata": {},
     "output_type": "execute_result"
    },
    {
     "data": {
      "image/png": "[encoded data removed]",
      "text/plain": [
       "<Figure size 432x288 with 1 Axes>"
      ]
     },
     "metadata": {
      "needs_background": "light"
     },
     "output_type": "display_data"
    }
   ],
   "source": []
  },
  {
   "cell_type": "code",
   "execution_count": null,
   "metadata": {},
   "outputs": [],
   "source": [
    "# Let's see if we can improve model performance by \"feature scaling\" the features.\n",
    "# There are two main types of feature scaling \n",
    "\n",
    "# Resacling\n",
    "\n",
    "# Normalization changes the scale of model\n",
    "\n",
    "# x norm = (x-min(x))/ (max(x)-min(x))\n",
    "\n"
   ]
  },
  {
   "cell_type": "code",
   "execution_count": null,
   "metadata": {},
   "outputs": [],
   "source": []
  },
  {
   "cell_type": "code",
   "execution_count": null,
   "metadata": {},
   "outputs": [],
   "source": []
  },
  {
   "cell_type": "code",
   "execution_count": null,
   "metadata": {},
   "outputs": [],
   "source": []
  },
  {
   "cell_type": "code",
   "execution_count": null,
   "metadata": {},
   "outputs": [],
   "source": []
  },
  {
   "cell_type": "code",
   "execution_count": null,
   "metadata": {},
   "outputs": [],
   "source": []
  },
  {
   "cell_type": "code",
   "execution_count": null,
   "metadata": {},
   "outputs": [],
   "source": []
  },
  {
   "cell_type": "code",
   "execution_count": null,
   "metadata": {},
   "outputs": [],
   "source": []
  },
  {
   "cell_type": "code",
   "execution_count": null,
   "metadata": {},
   "outputs": [],
   "source": []
  },
  {
   "cell_type": "code",
   "execution_count": null,
   "metadata": {},
   "outputs": [],
   "source": []
  },
  {
   "cell_type": "code",
   "execution_count": null,
   "metadata": {},
   "outputs": [],
   "source": []
  },
  {
   "cell_type": "code",
   "execution_count": null,
   "metadata": {},
   "outputs": [],
   "source": []
  },
  {
   "cell_type": "code",
   "execution_count": null,
   "metadata": {},
   "outputs": [],
   "source": []
  },
  {
   "cell_type": "code",
   "execution_count": null,
   "metadata": {},
   "outputs": [],
   "source": []
  },
  {
   "cell_type": "code",
   "execution_count": null,
   "metadata": {},
   "outputs": [],
   "source": []
  },
  {
   "cell_type": "code",
   "execution_count": null,
   "metadata": {},
   "outputs": [],
   "source": []
  },
  {
   "cell_type": "code",
   "execution_count": null,
   "metadata": {},
   "outputs": [],
   "source": []
  },
  {
   "cell_type": "code",
   "execution_count": null,
   "metadata": {},
   "outputs": [],
   "source": []
  },
  {
   "cell_type": "code",
   "execution_count": null,
   "metadata": {},
   "outputs": [],
   "source": []
  },
  {
   "cell_type": "code",
   "execution_count": null,
   "metadata": {},
   "outputs": [],
   "source": []
  },
  {
   "cell_type": "code",
   "execution_count": null,
   "metadata": {},
   "outputs": [],
   "source": []
  },
  {
   "cell_type": "code",
   "execution_count": null,
   "metadata": {},
   "outputs": [],
   "source": []
  },
  {
   "cell_type": "code",
   "execution_count": null,
   "metadata": {},
   "outputs": [],
   "source": []
  },
  {
   "cell_type": "code",
   "execution_count": null,
   "metadata": {},
   "outputs": [],
   "source": []
  },
  {
   "cell_type": "code",
   "execution_count": null,
   "metadata": {},
   "outputs": [],
   "source": []
  },
  {
   "cell_type": "code",
   "execution_count": null,
   "metadata": {},
   "outputs": [],
   "source": []
  },
  {
   "cell_type": "code",
   "execution_count": null,
   "metadata": {},
   "outputs": [],
   "source": []
  },
  {
   "cell_type": "code",
   "execution_count": null,
   "metadata": {},
   "outputs": [],
   "source": []
  },
  {
   "cell_type": "code",
   "execution_count": null,
   "metadata": {},
   "outputs": [],
   "source": []
  },
  {
   "cell_type": "code",
   "execution_count": null,
   "metadata": {},
   "outputs": [],
   "source": []
  },
  {
   "cell_type": "code",
   "execution_count": null,
   "metadata": {},
   "outputs": [],
   "source": []
  },
  {
   "cell_type": "code",
   "execution_count": null,
   "metadata": {},
   "outputs": [],
   "source": []
  }
 ],
 "metadata": {
  "kernelspec": {
   "display_name": "Python 3",
   "language": "python",
   "name": "python3"
  },
  "language_info": {
   "codemirror_mode": {
    "name": "ipython",
    "version": 3
   },
   "file_extension": ".py",
   "mimetype": "text/x-python",
   "name": "python",
   "nbconvert_exporter": "python",
   "pygments_lexer": "ipython3",
   "version": "3.7.3"
  }
 },
 "nbformat": 4,
 "nbformat_minor": 2
}
